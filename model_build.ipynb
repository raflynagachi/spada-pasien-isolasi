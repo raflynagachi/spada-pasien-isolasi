{
  "nbformat": 4,
  "nbformat_minor": 5,
  "metadata": {
    "kernelspec": {
      "display_name": "Python 3",
      "language": "python",
      "name": "python3"
    },
    "language_info": {
      "codemirror_mode": {
        "name": "ipython",
        "version": 3
      },
      "file_extension": ".py",
      "mimetype": "text/x-python",
      "name": "python",
      "nbconvert_exporter": "python",
      "pygments_lexer": "ipython3",
      "version": "3.9.5"
    },
    "colab": {
      "name": "Final Project.ipynb",
      "provenance": []
    }
  },
  "cells": [
    {
      "cell_type": "markdown",
      "metadata": {
        "id": "8ed44d81"
      },
      "source": [
        "# Import Library"
      ],
      "id": "8ed44d81"
    },
    {
      "cell_type": "code",
      "metadata": {
        "id": "6e6b1d3c"
      },
      "source": [
        "import pandas as pd\n",
        "import numpy as np\n",
        "import matplotlib.pyplot as plt\n",
        "import seaborn as sns\n",
        "from statsmodels.tsa.stattools import adfuller\n",
        "from statsmodels.graphics.tsaplots import plot_acf, plot_pacf\n",
        "from statsmodels.tsa.statespace.sarimax import SARIMAX"
      ],
      "id": "6e6b1d3c",
      "execution_count": null,
      "outputs": []
    },
    {
      "cell_type": "code",
      "metadata": {
        "colab": {
          "base_uri": "https://localhost:8080/",
          "height": 206
        },
        "id": "669fecdb",
        "outputId": "b200498d-d6ac-4d3c-eeae-016a52803047"
      },
      "source": [
        "isolasi = pd.read_csv('isolasi.csv')\n",
        "icu = pd.read_csv('icu.csv')\n",
        "\n",
        "isolasi.tail()"
      ],
      "id": "669fecdb",
      "execution_count": null,
      "outputs": [
        {
          "output_type": "execute_result",
          "data": {
            "text/html": [
              "<div>\n",
              "<style scoped>\n",
              "    .dataframe tbody tr th:only-of-type {\n",
              "        vertical-align: middle;\n",
              "    }\n",
              "\n",
              "    .dataframe tbody tr th {\n",
              "        vertical-align: top;\n",
              "    }\n",
              "\n",
              "    .dataframe thead th {\n",
              "        text-align: right;\n",
              "    }\n",
              "</style>\n",
              "<table border=\"1\" class=\"dataframe\">\n",
              "  <thead>\n",
              "    <tr style=\"text-align: right;\">\n",
              "      <th></th>\n",
              "      <th>Tanggal</th>\n",
              "      <th>Total TT Isolasi</th>\n",
              "      <th>Total Pasien Isolasi</th>\n",
              "      <th>% Keterpakaian TT Isolasi</th>\n",
              "    </tr>\n",
              "  </thead>\n",
              "  <tbody>\n",
              "    <tr>\n",
              "      <th>351</th>\n",
              "      <td>17 Nov 2021</td>\n",
              "      <td>4.283</td>\n",
              "      <td>177.0</td>\n",
              "      <td>4%</td>\n",
              "    </tr>\n",
              "    <tr>\n",
              "      <th>352</th>\n",
              "      <td>18 Nov 2021</td>\n",
              "      <td>4.279</td>\n",
              "      <td>198.0</td>\n",
              "      <td>5%</td>\n",
              "    </tr>\n",
              "    <tr>\n",
              "      <th>353</th>\n",
              "      <td>19 Nov 2021</td>\n",
              "      <td>4.256</td>\n",
              "      <td>195.0</td>\n",
              "      <td>5%</td>\n",
              "    </tr>\n",
              "    <tr>\n",
              "      <th>354</th>\n",
              "      <td>20 Nov 2021</td>\n",
              "      <td>4.256</td>\n",
              "      <td>196.0</td>\n",
              "      <td>5%</td>\n",
              "    </tr>\n",
              "    <tr>\n",
              "      <th>355</th>\n",
              "      <td>21 Nov 2021</td>\n",
              "      <td>4.256</td>\n",
              "      <td>185.0</td>\n",
              "      <td>4%</td>\n",
              "    </tr>\n",
              "  </tbody>\n",
              "</table>\n",
              "</div>"
            ],
            "text/plain": [
              "         Tanggal  ...  % Keterpakaian TT Isolasi\n",
              "351  17 Nov 2021  ...                         4%\n",
              "352  18 Nov 2021  ...                         5%\n",
              "353  19 Nov 2021  ...                         5%\n",
              "354  20 Nov 2021  ...                         5%\n",
              "355  21 Nov 2021  ...                         4%\n",
              "\n",
              "[5 rows x 4 columns]"
            ]
          },
          "metadata": {},
          "execution_count": 118
        }
      ]
    },
    {
      "cell_type": "code",
      "metadata": {
        "colab": {
          "base_uri": "https://localhost:8080/",
          "height": 206
        },
        "id": "ba8c3687",
        "outputId": "ef304a8b-61bc-4ab5-ff81-fa185a7bf010"
      },
      "source": [
        "icu.tail()"
      ],
      "id": "ba8c3687",
      "execution_count": null,
      "outputs": [
        {
          "output_type": "execute_result",
          "data": {
            "text/html": [
              "<div>\n",
              "<style scoped>\n",
              "    .dataframe tbody tr th:only-of-type {\n",
              "        vertical-align: middle;\n",
              "    }\n",
              "\n",
              "    .dataframe tbody tr th {\n",
              "        vertical-align: top;\n",
              "    }\n",
              "\n",
              "    .dataframe thead th {\n",
              "        text-align: right;\n",
              "    }\n",
              "</style>\n",
              "<table border=\"1\" class=\"dataframe\">\n",
              "  <thead>\n",
              "    <tr style=\"text-align: right;\">\n",
              "      <th></th>\n",
              "      <th>Tanggal</th>\n",
              "      <th>Total TT ICU</th>\n",
              "      <th>Total Pasien ICU</th>\n",
              "      <th>% Keterpakaian TT ICU</th>\n",
              "    </tr>\n",
              "  </thead>\n",
              "  <tbody>\n",
              "    <tr>\n",
              "      <th>351</th>\n",
              "      <td>17 Nov 2021</td>\n",
              "      <td>675.0</td>\n",
              "      <td>47.0</td>\n",
              "      <td>7%</td>\n",
              "    </tr>\n",
              "    <tr>\n",
              "      <th>352</th>\n",
              "      <td>18 Nov 2021</td>\n",
              "      <td>675.0</td>\n",
              "      <td>46.0</td>\n",
              "      <td>7%</td>\n",
              "    </tr>\n",
              "    <tr>\n",
              "      <th>353</th>\n",
              "      <td>19 Nov 2021</td>\n",
              "      <td>669.0</td>\n",
              "      <td>45.0</td>\n",
              "      <td>7%</td>\n",
              "    </tr>\n",
              "    <tr>\n",
              "      <th>354</th>\n",
              "      <td>20 Nov 2021</td>\n",
              "      <td>673.0</td>\n",
              "      <td>44.0</td>\n",
              "      <td>7%</td>\n",
              "    </tr>\n",
              "    <tr>\n",
              "      <th>355</th>\n",
              "      <td>21 Nov 2021</td>\n",
              "      <td>675.0</td>\n",
              "      <td>42.0</td>\n",
              "      <td>6%</td>\n",
              "    </tr>\n",
              "  </tbody>\n",
              "</table>\n",
              "</div>"
            ],
            "text/plain": [
              "         Tanggal  Total TT ICU  Total Pasien ICU % Keterpakaian TT ICU\n",
              "351  17 Nov 2021         675.0              47.0                    7%\n",
              "352  18 Nov 2021         675.0              46.0                    7%\n",
              "353  19 Nov 2021         669.0              45.0                    7%\n",
              "354  20 Nov 2021         673.0              44.0                    7%\n",
              "355  21 Nov 2021         675.0              42.0                    6%"
            ]
          },
          "metadata": {},
          "execution_count": 119
        }
      ]
    },
    {
      "cell_type": "code",
      "metadata": {
        "scrolled": false,
        "colab": {
          "base_uri": "https://localhost:8080/"
        },
        "id": "51a1415c",
        "outputId": "65ddc7a4-0080-4368-c164-25e62cd6655d"
      },
      "source": [
        "print(isolasi.shape)\n",
        "print(icu.shape)"
      ],
      "id": "51a1415c",
      "execution_count": null,
      "outputs": [
        {
          "output_type": "stream",
          "name": "stdout",
          "text": [
            "(356, 4)\n",
            "(356, 4)\n"
          ]
        }
      ]
    },
    {
      "cell_type": "code",
      "metadata": {
        "colab": {
          "base_uri": "https://localhost:8080/"
        },
        "id": "e4c79c61",
        "outputId": "937835fb-aafa-4e87-8820-ef3ba12e5434"
      },
      "source": [
        "print(isolasi.isna().sum())\n",
        "print(icu.isna().sum())"
      ],
      "id": "e4c79c61",
      "execution_count": null,
      "outputs": [
        {
          "output_type": "stream",
          "name": "stdout",
          "text": [
            "Tanggal                      0\n",
            "Total TT Isolasi             0\n",
            "Total Pasien Isolasi         0\n",
            "% Keterpakaian TT Isolasi    0\n",
            "dtype: int64\n",
            "Tanggal                  0\n",
            "Total TT ICU             0\n",
            "Total Pasien ICU         0\n",
            "% Keterpakaian TT ICU    0\n",
            "dtype: int64\n"
          ]
        }
      ]
    },
    {
      "cell_type": "code",
      "metadata": {
        "colab": {
          "base_uri": "https://localhost:8080/",
          "height": 206
        },
        "id": "e542ca97",
        "outputId": "27b2e724-e319-4f4e-d08a-9ab51f528cd3"
      },
      "source": [
        "data = isolasi.merge(icu, on='Tanggal')\n",
        "data.head()"
      ],
      "id": "e542ca97",
      "execution_count": null,
      "outputs": [
        {
          "output_type": "execute_result",
          "data": {
            "text/html": [
              "<div>\n",
              "<style scoped>\n",
              "    .dataframe tbody tr th:only-of-type {\n",
              "        vertical-align: middle;\n",
              "    }\n",
              "\n",
              "    .dataframe tbody tr th {\n",
              "        vertical-align: top;\n",
              "    }\n",
              "\n",
              "    .dataframe thead th {\n",
              "        text-align: right;\n",
              "    }\n",
              "</style>\n",
              "<table border=\"1\" class=\"dataframe\">\n",
              "  <thead>\n",
              "    <tr style=\"text-align: right;\">\n",
              "      <th></th>\n",
              "      <th>Tanggal</th>\n",
              "      <th>Total TT Isolasi</th>\n",
              "      <th>Total Pasien Isolasi</th>\n",
              "      <th>% Keterpakaian TT Isolasi</th>\n",
              "      <th>Total TT ICU</th>\n",
              "      <th>Total Pasien ICU</th>\n",
              "      <th>% Keterpakaian TT ICU</th>\n",
              "    </tr>\n",
              "  </thead>\n",
              "  <tbody>\n",
              "    <tr>\n",
              "      <th>0</th>\n",
              "      <td>1 Des 2020</td>\n",
              "      <td>6.178</td>\n",
              "      <td>4.849</td>\n",
              "      <td>78%</td>\n",
              "      <td>875.0</td>\n",
              "      <td>630.0</td>\n",
              "      <td>72%</td>\n",
              "    </tr>\n",
              "    <tr>\n",
              "      <th>1</th>\n",
              "      <td>2 Des 2020</td>\n",
              "      <td>6.181</td>\n",
              "      <td>4.866</td>\n",
              "      <td>79%</td>\n",
              "      <td>881.0</td>\n",
              "      <td>628.0</td>\n",
              "      <td>71%</td>\n",
              "    </tr>\n",
              "    <tr>\n",
              "      <th>2</th>\n",
              "      <td>3 Des 2020</td>\n",
              "      <td>6.230</td>\n",
              "      <td>4.908</td>\n",
              "      <td>79%</td>\n",
              "      <td>883.0</td>\n",
              "      <td>628.0</td>\n",
              "      <td>71%</td>\n",
              "    </tr>\n",
              "    <tr>\n",
              "      <th>3</th>\n",
              "      <td>4 Des 2020</td>\n",
              "      <td>6.305</td>\n",
              "      <td>4.985</td>\n",
              "      <td>79%</td>\n",
              "      <td>874.0</td>\n",
              "      <td>610.0</td>\n",
              "      <td>70%</td>\n",
              "    </tr>\n",
              "    <tr>\n",
              "      <th>4</th>\n",
              "      <td>5 Des 2020</td>\n",
              "      <td>6.302</td>\n",
              "      <td>4.960</td>\n",
              "      <td>79%</td>\n",
              "      <td>874.0</td>\n",
              "      <td>620.0</td>\n",
              "      <td>71%</td>\n",
              "    </tr>\n",
              "  </tbody>\n",
              "</table>\n",
              "</div>"
            ],
            "text/plain": [
              "      Tanggal  Total TT Isolasi  ...  Total Pasien ICU % Keterpakaian TT ICU\n",
              "0  1 Des 2020             6.178  ...             630.0                   72%\n",
              "1  2 Des 2020             6.181  ...             628.0                   71%\n",
              "2  3 Des 2020             6.230  ...             628.0                   71%\n",
              "3  4 Des 2020             6.305  ...             610.0                   70%\n",
              "4  5 Des 2020             6.302  ...             620.0                   71%\n",
              "\n",
              "[5 rows x 7 columns]"
            ]
          },
          "metadata": {},
          "execution_count": 122
        }
      ]
    },
    {
      "cell_type": "code",
      "metadata": {
        "id": "e2006c0c"
      },
      "source": [
        "# data.['Tanggal'].str.replace()\n",
        "data['Tanggal'].replace(regex={'Mei': 'May',\n",
        "                              'Agu': 'Aug',\n",
        "                              'Okt': 'Oct',\n",
        "                              'Des': 'Dec'}, inplace=True)"
      ],
      "id": "e2006c0c",
      "execution_count": null,
      "outputs": []
    },
    {
      "cell_type": "code",
      "metadata": {
        "scrolled": true,
        "id": "b4514c11"
      },
      "source": [
        "data['date'] = pd.to_datetime(data['Tanggal'], format='%d %b %Y')\n",
        "data.set_index('date', inplace=True)\n",
        "data.drop('Tanggal', axis=1, inplace=True)"
      ],
      "id": "b4514c11",
      "execution_count": null,
      "outputs": []
    },
    {
      "cell_type": "code",
      "metadata": {
        "colab": {
          "base_uri": "https://localhost:8080/",
          "height": 454
        },
        "id": "fe970aa5",
        "outputId": "dd686866-7136-4a56-a5e3-798c46086d7f"
      },
      "source": [
        "data"
      ],
      "id": "fe970aa5",
      "execution_count": null,
      "outputs": [
        {
          "output_type": "execute_result",
          "data": {
            "text/html": [
              "<div>\n",
              "<style scoped>\n",
              "    .dataframe tbody tr th:only-of-type {\n",
              "        vertical-align: middle;\n",
              "    }\n",
              "\n",
              "    .dataframe tbody tr th {\n",
              "        vertical-align: top;\n",
              "    }\n",
              "\n",
              "    .dataframe thead th {\n",
              "        text-align: right;\n",
              "    }\n",
              "</style>\n",
              "<table border=\"1\" class=\"dataframe\">\n",
              "  <thead>\n",
              "    <tr style=\"text-align: right;\">\n",
              "      <th></th>\n",
              "      <th>Total TT Isolasi</th>\n",
              "      <th>Total Pasien Isolasi</th>\n",
              "      <th>% Keterpakaian TT Isolasi</th>\n",
              "      <th>Total TT ICU</th>\n",
              "      <th>Total Pasien ICU</th>\n",
              "      <th>% Keterpakaian TT ICU</th>\n",
              "    </tr>\n",
              "    <tr>\n",
              "      <th>date</th>\n",
              "      <th></th>\n",
              "      <th></th>\n",
              "      <th></th>\n",
              "      <th></th>\n",
              "      <th></th>\n",
              "      <th></th>\n",
              "    </tr>\n",
              "  </thead>\n",
              "  <tbody>\n",
              "    <tr>\n",
              "      <th>2020-12-01</th>\n",
              "      <td>6.178</td>\n",
              "      <td>4.849</td>\n",
              "      <td>78%</td>\n",
              "      <td>875.0</td>\n",
              "      <td>630.0</td>\n",
              "      <td>72%</td>\n",
              "    </tr>\n",
              "    <tr>\n",
              "      <th>2020-12-02</th>\n",
              "      <td>6.181</td>\n",
              "      <td>4.866</td>\n",
              "      <td>79%</td>\n",
              "      <td>881.0</td>\n",
              "      <td>628.0</td>\n",
              "      <td>71%</td>\n",
              "    </tr>\n",
              "    <tr>\n",
              "      <th>2020-12-03</th>\n",
              "      <td>6.230</td>\n",
              "      <td>4.908</td>\n",
              "      <td>79%</td>\n",
              "      <td>883.0</td>\n",
              "      <td>628.0</td>\n",
              "      <td>71%</td>\n",
              "    </tr>\n",
              "    <tr>\n",
              "      <th>2020-12-04</th>\n",
              "      <td>6.305</td>\n",
              "      <td>4.985</td>\n",
              "      <td>79%</td>\n",
              "      <td>874.0</td>\n",
              "      <td>610.0</td>\n",
              "      <td>70%</td>\n",
              "    </tr>\n",
              "    <tr>\n",
              "      <th>2020-12-05</th>\n",
              "      <td>6.302</td>\n",
              "      <td>4.960</td>\n",
              "      <td>79%</td>\n",
              "      <td>874.0</td>\n",
              "      <td>620.0</td>\n",
              "      <td>71%</td>\n",
              "    </tr>\n",
              "    <tr>\n",
              "      <th>...</th>\n",
              "      <td>...</td>\n",
              "      <td>...</td>\n",
              "      <td>...</td>\n",
              "      <td>...</td>\n",
              "      <td>...</td>\n",
              "      <td>...</td>\n",
              "    </tr>\n",
              "    <tr>\n",
              "      <th>2021-11-17</th>\n",
              "      <td>4.283</td>\n",
              "      <td>177.000</td>\n",
              "      <td>4%</td>\n",
              "      <td>675.0</td>\n",
              "      <td>47.0</td>\n",
              "      <td>7%</td>\n",
              "    </tr>\n",
              "    <tr>\n",
              "      <th>2021-11-18</th>\n",
              "      <td>4.279</td>\n",
              "      <td>198.000</td>\n",
              "      <td>5%</td>\n",
              "      <td>675.0</td>\n",
              "      <td>46.0</td>\n",
              "      <td>7%</td>\n",
              "    </tr>\n",
              "    <tr>\n",
              "      <th>2021-11-19</th>\n",
              "      <td>4.256</td>\n",
              "      <td>195.000</td>\n",
              "      <td>5%</td>\n",
              "      <td>669.0</td>\n",
              "      <td>45.0</td>\n",
              "      <td>7%</td>\n",
              "    </tr>\n",
              "    <tr>\n",
              "      <th>2021-11-20</th>\n",
              "      <td>4.256</td>\n",
              "      <td>196.000</td>\n",
              "      <td>5%</td>\n",
              "      <td>673.0</td>\n",
              "      <td>44.0</td>\n",
              "      <td>7%</td>\n",
              "    </tr>\n",
              "    <tr>\n",
              "      <th>2021-11-21</th>\n",
              "      <td>4.256</td>\n",
              "      <td>185.000</td>\n",
              "      <td>4%</td>\n",
              "      <td>675.0</td>\n",
              "      <td>42.0</td>\n",
              "      <td>6%</td>\n",
              "    </tr>\n",
              "  </tbody>\n",
              "</table>\n",
              "<p>356 rows × 6 columns</p>\n",
              "</div>"
            ],
            "text/plain": [
              "            Total TT Isolasi  ...  % Keterpakaian TT ICU\n",
              "date                          ...                       \n",
              "2020-12-01             6.178  ...                    72%\n",
              "2020-12-02             6.181  ...                    71%\n",
              "2020-12-03             6.230  ...                    71%\n",
              "2020-12-04             6.305  ...                    70%\n",
              "2020-12-05             6.302  ...                    71%\n",
              "...                      ...  ...                    ...\n",
              "2021-11-17             4.283  ...                     7%\n",
              "2021-11-18             4.279  ...                     7%\n",
              "2021-11-19             4.256  ...                     7%\n",
              "2021-11-20             4.256  ...                     7%\n",
              "2021-11-21             4.256  ...                     6%\n",
              "\n",
              "[356 rows x 6 columns]"
            ]
          },
          "metadata": {},
          "execution_count": 125
        }
      ]
    },
    {
      "cell_type": "code",
      "metadata": {
        "colab": {
          "base_uri": "https://localhost:8080/",
          "height": 300
        },
        "id": "c4eb48b5",
        "outputId": "9c6690ef-3f98-4ffe-aaa6-2677f60c32e9"
      },
      "source": [
        "data.describe()"
      ],
      "id": "c4eb48b5",
      "execution_count": null,
      "outputs": [
        {
          "output_type": "execute_result",
          "data": {
            "text/html": [
              "<div>\n",
              "<style scoped>\n",
              "    .dataframe tbody tr th:only-of-type {\n",
              "        vertical-align: middle;\n",
              "    }\n",
              "\n",
              "    .dataframe tbody tr th {\n",
              "        vertical-align: top;\n",
              "    }\n",
              "\n",
              "    .dataframe thead th {\n",
              "        text-align: right;\n",
              "    }\n",
              "</style>\n",
              "<table border=\"1\" class=\"dataframe\">\n",
              "  <thead>\n",
              "    <tr style=\"text-align: right;\">\n",
              "      <th></th>\n",
              "      <th>Total TT Isolasi</th>\n",
              "      <th>Total Pasien Isolasi</th>\n",
              "      <th>Total TT ICU</th>\n",
              "      <th>Total Pasien ICU</th>\n",
              "    </tr>\n",
              "  </thead>\n",
              "  <tbody>\n",
              "    <tr>\n",
              "      <th>count</th>\n",
              "      <td>356.000000</td>\n",
              "      <td>356.000000</td>\n",
              "      <td>356.000000</td>\n",
              "      <td>356.000000</td>\n",
              "    </tr>\n",
              "    <tr>\n",
              "      <th>mean</th>\n",
              "      <td>7.597514</td>\n",
              "      <td>88.522772</td>\n",
              "      <td>233.331742</td>\n",
              "      <td>451.914281</td>\n",
              "    </tr>\n",
              "    <tr>\n",
              "      <th>std</th>\n",
              "      <td>1.856738</td>\n",
              "      <td>185.237834</td>\n",
              "      <td>386.122710</td>\n",
              "      <td>307.619131</td>\n",
              "    </tr>\n",
              "    <tr>\n",
              "      <th>min</th>\n",
              "      <td>4.256000</td>\n",
              "      <td>1.017000</td>\n",
              "      <td>1.001000</td>\n",
              "      <td>1.019000</td>\n",
              "    </tr>\n",
              "    <tr>\n",
              "      <th>25%</th>\n",
              "      <td>6.564000</td>\n",
              "      <td>3.285750</td>\n",
              "      <td>1.105750</td>\n",
              "      <td>166.000000</td>\n",
              "    </tr>\n",
              "    <tr>\n",
              "      <th>50%</th>\n",
              "      <td>7.375500</td>\n",
              "      <td>5.738500</td>\n",
              "      <td>1.215000</td>\n",
              "      <td>474.000000</td>\n",
              "    </tr>\n",
              "    <tr>\n",
              "      <th>75%</th>\n",
              "      <td>8.288250</td>\n",
              "      <td>10.256250</td>\n",
              "      <td>707.000000</td>\n",
              "      <td>736.000000</td>\n",
              "    </tr>\n",
              "    <tr>\n",
              "      <th>max</th>\n",
              "      <td>11.773000</td>\n",
              "      <td>981.000000</td>\n",
              "      <td>996.000000</td>\n",
              "      <td>994.000000</td>\n",
              "    </tr>\n",
              "  </tbody>\n",
              "</table>\n",
              "</div>"
            ],
            "text/plain": [
              "       Total TT Isolasi  Total Pasien Isolasi  Total TT ICU  Total Pasien ICU\n",
              "count        356.000000            356.000000    356.000000        356.000000\n",
              "mean           7.597514             88.522772    233.331742        451.914281\n",
              "std            1.856738            185.237834    386.122710        307.619131\n",
              "min            4.256000              1.017000      1.001000          1.019000\n",
              "25%            6.564000              3.285750      1.105750        166.000000\n",
              "50%            7.375500              5.738500      1.215000        474.000000\n",
              "75%            8.288250             10.256250    707.000000        736.000000\n",
              "max           11.773000            981.000000    996.000000        994.000000"
            ]
          },
          "metadata": {},
          "execution_count": 126
        }
      ]
    },
    {
      "cell_type": "markdown",
      "metadata": {
        "id": "f51c87e9"
      },
      "source": [
        "# Modeling"
      ],
      "id": "f51c87e9"
    },
    {
      "cell_type": "markdown",
      "metadata": {
        "id": "b19f5186"
      },
      "source": [
        "## Identification"
      ],
      "id": "b19f5186"
    },
    {
      "cell_type": "code",
      "metadata": {
        "scrolled": false,
        "colab": {
          "base_uri": "https://localhost:8080/",
          "height": 405
        },
        "id": "a20ac94f",
        "outputId": "9e1ab120-b406-4b8d-b72b-6bf1caf514ae"
      },
      "source": [
        "plt.figure(figsize=(15,6))\n",
        "\n",
        "sns.lineplot(x=data.index,\n",
        "            y='Total Pasien Isolasi',\n",
        "            data=data)\n",
        "\n",
        "sns.lineplot(x=data.index,\n",
        "            y='Total TT Isolasi',\n",
        "            data=data)"
      ],
      "id": "a20ac94f",
      "execution_count": null,
      "outputs": [
        {
          "output_type": "execute_result",
          "data": {
            "text/plain": [
              "<matplotlib.axes._subplots.AxesSubplot at 0x7f781758e050>"
            ]
          },
          "metadata": {},
          "execution_count": 127
        },
        {
          "output_type": "display_data",
          "data": {
            "image/png": "[encoded data removed]",
            "text/plain": [
              "<Figure size 1080x432 with 1 Axes>"
            ]
          },
          "metadata": {
            "needs_background": "light"
          }
        }
      ]
    },
    {
      "cell_type": "code",
      "metadata": {
        "scrolled": false,
        "colab": {
          "base_uri": "https://localhost:8080/",
          "height": 405
        },
        "id": "6707e966",
        "outputId": "ec6bc43a-f3cf-4632-d8be-4bed4da5af95"
      },
      "source": [
        "plt.figure(figsize=(15,6))\n",
        "\n",
        "sns.lineplot(x=data.index,\n",
        "            y='Total Pasien ICU',\n",
        "            data=data)\n",
        "\n",
        "sns.lineplot(x=data.index,\n",
        "            y='Total TT ICU',\n",
        "            data=data)"
      ],
      "id": "6707e966",
      "execution_count": null,
      "outputs": [
        {
          "output_type": "execute_result",
          "data": {
            "text/plain": [
              "<matplotlib.axes._subplots.AxesSubplot at 0x7f78175d04d0>"
            ]
          },
          "metadata": {},
          "execution_count": 128
        },
        {
          "output_type": "display_data",
          "data": {
            "image/png": "[encoded data removed]",
            "text/plain": [
              "<Figure size 1080x432 with 1 Axes>"
            ]
          },
          "metadata": {
            "needs_background": "light"
          }
        }
      ]
    },
    {
      "cell_type": "markdown",
      "metadata": {
        "id": "bd037293"
      },
      "source": [
        "### Dicky-Fuller Test\n",
        "\n",
        "Tes yang paling umum untuk mengidentifikasi apakah deret waktu non-stasioner adalah tes Dicky-Fuller.\n",
        "\n",
        "H0 = Data tidak Stasioner"
      ],
      "id": "bd037293"
    },
    {
      "cell_type": "code",
      "metadata": {
        "scrolled": true,
        "colab": {
          "base_uri": "https://localhost:8080/"
        },
        "id": "227fc39f",
        "outputId": "3e77638b-2c26-42a5-afcd-630fb15b4919"
      },
      "source": [
        "df_isolasi = data['Total Pasien Isolasi']\n",
        "df_icu = data['Total Pasien ICU']\n",
        "\n",
        "isolasi_dft = adfuller(df_isolasi)\n",
        "icu_dft = adfuller(df_icu)\n",
        "# Print test statistic and P-value\n",
        "print('Isolasi Test Statistics ',isolasi_dft[0])\n",
        "print('Isolasi p-value ',isolasi_dft[1])\n",
        "\n",
        "print('ICU Test Statistics ',icu_dft[0])\n",
        "print('ICU p-value ',icu_dft[1])"
      ],
      "id": "227fc39f",
      "execution_count": null,
      "outputs": [
        {
          "output_type": "stream",
          "name": "stdout",
          "text": [
            "Isolasi Test Statistics  -2.7231784681893583\n",
            "Isolasi p-value  0.07011254311536365\n",
            "ICU Test Statistics  -2.1651871204750113\n",
            "ICU p-value  0.2191221893442057\n"
          ]
        }
      ]
    },
    {
      "cell_type": "markdown",
      "metadata": {
        "id": "7e96d334"
      },
      "source": [
        "Jika p-value lebih kecil dari 0.05, maka tolak H0.\n",
        "\n",
        "Sehingga data Total Pasien Isolasi diasumsikan tidak stasioner dan data Total Pasien ICU diasumsikan Stasioner.\n",
        "\n",
        "Harus dilakukan Differencing pada data Total Pasien Isolasi."
      ],
      "id": "7e96d334"
    },
    {
      "cell_type": "markdown",
      "metadata": {
        "id": "6b0d17a7"
      },
      "source": [
        "### Differencing"
      ],
      "id": "6b0d17a7"
    },
    {
      "cell_type": "code",
      "metadata": {
        "colab": {
          "base_uri": "https://localhost:8080/",
          "height": 423
        },
        "id": "f645fdc0",
        "outputId": "0436b835-973a-4e96-bccd-ade31322f918"
      },
      "source": [
        "isolasi_diff = df_isolasi.diff().dropna()\n",
        "\n",
        "isolasi_diff_dft = adfuller(isolasi_diff)\n",
        "\n",
        "plt.figure(figsize=(15,6))\n",
        "sns.lineplot(x=isolasi_diff.index,\n",
        "            y=isolasi_diff,\n",
        "            data=isolasi_diff)\n",
        "plt.show()\n",
        "\n",
        "print('Isolasi Test Statistics ',isolasi_diff_dft[0])\n",
        "print('Isolasi p-value ',isolasi_diff_dft[1])"
      ],
      "id": "f645fdc0",
      "execution_count": null,
      "outputs": [
        {
          "output_type": "display_data",
          "data": {
            "image/png": "[encoded data removed]",
            "text/plain": [
              "<Figure size 1080x432 with 1 Axes>"
            ]
          },
          "metadata": {
            "needs_background": "light"
          }
        },
        {
          "output_type": "stream",
          "name": "stdout",
          "text": [
            "Isolasi Test Statistics  -20.23082359651885\n",
            "Isolasi p-value  0.0\n"
          ]
        }
      ]
    },
    {
      "cell_type": "markdown",
      "metadata": {
        "id": "0bda3427"
      },
      "source": [
        "Setelah dilakukan differencing datanya sudah stasioner dan sudah bisa digunakan untuk modeling."
      ],
      "id": "0bda3427"
    },
    {
      "cell_type": "markdown",
      "metadata": {
        "id": "bc671a72"
      },
      "source": [
        "### Plot ACF dan PACF"
      ],
      "id": "bc671a72"
    },
    {
      "cell_type": "markdown",
      "metadata": {
        "id": "86b54b51"
      },
      "source": [
        "#### Plot ACF dan PACF Data Total Pasien Isolasi"
      ],
      "id": "86b54b51"
    },
    {
      "cell_type": "code",
      "metadata": {
        "colab": {
          "base_uri": "https://localhost:8080/",
          "height": 498
        },
        "id": "4da4c3c1",
        "outputId": "ddb260ab-1ac4-435f-8cd6-cc191cdbc6f5"
      },
      "source": [
        "# Create figure\n",
        "fig, (ax1, ax2) = plt.subplots(2,1, figsize=(6,8))\n",
        " \n",
        "# Plot the ACF of savings on ax1\n",
        "plot_acf(isolasi_diff, lags=20, zero=False, ax=ax1)\n",
        " \n",
        "# Plot the PACF of savings on ax2\n",
        "plot_pacf(isolasi_diff, lags=20, zero=False, ax=ax2)\n",
        " \n",
        "plt.show()"
      ],
      "id": "4da4c3c1",
      "execution_count": null,
      "outputs": [
        {
          "output_type": "display_data",
          "data": {
            "image/png": "[encoded data removed]",
            "text/plain": [
              "<Figure size 432x576 with 2 Axes>"
            ]
          },
          "metadata": {
            "needs_background": "light"
          }
        }
      ]
    },
    {
      "cell_type": "code",
      "metadata": {
        "colab": {
          "base_uri": "https://localhost:8080/",
          "height": 498
        },
        "id": "3425f1dc",
        "outputId": "e62a896a-b5b7-47c7-8b86-72dd99dc96fd"
      },
      "source": [
        "# Create figure\n",
        "fig, (ax1, ax2) = plt.subplots(2,1, figsize=(6,8))\n",
        " \n",
        "# Plot the ACF of savings on ax1\n",
        "plot_acf(df_icu, lags=20, zero=False, ax=ax1)\n",
        " \n",
        "# Plot the PACF of savings on ax2\n",
        "plot_pacf(df_icu, lags=20, zero=False, ax=ax2)\n",
        " \n",
        "plt.show()"
      ],
      "id": "3425f1dc",
      "execution_count": null,
      "outputs": [
        {
          "output_type": "display_data",
          "data": {
            "image/png": "[encoded data removed]",
            "text/plain": [
              "<Figure size 432x576 with 2 Axes>"
            ]
          },
          "metadata": {
            "needs_background": "light"
          }
        }
      ]
    },
    {
      "cell_type": "markdown",
      "metadata": {
        "id": "038b0732"
      },
      "source": [
        "## Estimation\n"
      ],
      "id": "038b0732"
    },
    {
      "cell_type": "markdown",
      "metadata": {
        "id": "16aa8f3b"
      },
      "source": [
        "### Penentuan Order berdasarkan AIC dan BIC\n",
        "#### AIC dan BIC pada Data Total Pasien Isolasi"
      ],
      "id": "16aa8f3b"
    },
    {
      "cell_type": "code",
      "metadata": {
        "scrolled": true,
        "colab": {
          "base_uri": "https://localhost:8080/"
        },
        "id": "54e8bcb3",
        "outputId": "dd130e4d-11a2-4a19-e4dd-9462b4dbe61b"
      },
      "source": [
        "# Create empty list to store search results\n",
        "order_aic_bic=[]\n",
        "\n",
        "# Loop over p values from 0-3\n",
        "for p in range(3):\n",
        "  \n",
        "  # Loop over q values from 0-3\n",
        "    for q in range(3):\n",
        "      try:\n",
        "        # Create and fit ARMA(p,q) model\n",
        "        model = SARIMAX(df_isolasi, order=(p,1,q), trend='c')\n",
        "        results = model.fit()\n",
        "        \n",
        "        # Print p, q, AIC, BIC\n",
        "        order_aic_bic.append((p,q,results.aic,results.bic))\n",
        "        \n",
        "      except:\n",
        "        order_aic_bic.append((p,q,None,None))"
      ],
      "id": "54e8bcb3",
      "execution_count": null,
      "outputs": [
        {
          "output_type": "stream",
          "name": "stderr",
          "text": [
            "/usr/local/lib/python3.7/dist-packages/statsmodels/tsa/base/tsa_model.py:165: ValueWarning: No frequency information was provided, so inferred frequency D will be used.\n",
            "  % freq, ValueWarning)\n",
            "/usr/local/lib/python3.7/dist-packages/statsmodels/tsa/base/tsa_model.py:165: ValueWarning: No frequency information was provided, so inferred frequency D will be used.\n",
            "  % freq, ValueWarning)\n",
            "/usr/local/lib/python3.7/dist-packages/statsmodels/tsa/base/tsa_model.py:165: ValueWarning: No frequency information was provided, so inferred frequency D will be used.\n",
            "  % freq, ValueWarning)\n",
            "/usr/local/lib/python3.7/dist-packages/statsmodels/tsa/base/tsa_model.py:165: ValueWarning: No frequency information was provided, so inferred frequency D will be used.\n",
            "  % freq, ValueWarning)\n",
            "/usr/local/lib/python3.7/dist-packages/statsmodels/tsa/base/tsa_model.py:165: ValueWarning: No frequency information was provided, so inferred frequency D will be used.\n",
            "  % freq, ValueWarning)\n",
            "/usr/local/lib/python3.7/dist-packages/statsmodels/tsa/base/tsa_model.py:165: ValueWarning: No frequency information was provided, so inferred frequency D will be used.\n",
            "  % freq, ValueWarning)\n",
            "/usr/local/lib/python3.7/dist-packages/statsmodels/base/model.py:512: ConvergenceWarning: Maximum Likelihood optimization failed to converge. Check mle_retvals\n",
            "  \"Check mle_retvals\", ConvergenceWarning)\n",
            "/usr/local/lib/python3.7/dist-packages/statsmodels/tsa/base/tsa_model.py:165: ValueWarning: No frequency information was provided, so inferred frequency D will be used.\n",
            "  % freq, ValueWarning)\n",
            "/usr/local/lib/python3.7/dist-packages/statsmodels/tsa/base/tsa_model.py:165: ValueWarning: No frequency information was provided, so inferred frequency D will be used.\n",
            "  % freq, ValueWarning)\n",
            "/usr/local/lib/python3.7/dist-packages/statsmodels/base/model.py:512: ConvergenceWarning: Maximum Likelihood optimization failed to converge. Check mle_retvals\n",
            "  \"Check mle_retvals\", ConvergenceWarning)\n",
            "/usr/local/lib/python3.7/dist-packages/statsmodels/tsa/base/tsa_model.py:165: ValueWarning: No frequency information was provided, so inferred frequency D will be used.\n",
            "  % freq, ValueWarning)\n",
            "/usr/local/lib/python3.7/dist-packages/statsmodels/base/model.py:512: ConvergenceWarning: Maximum Likelihood optimization failed to converge. Check mle_retvals\n",
            "  \"Check mle_retvals\", ConvergenceWarning)\n"
          ]
        }
      ]
    },
    {
      "cell_type": "code",
      "metadata": {
        "colab": {
          "base_uri": "https://localhost:8080/"
        },
        "id": "f2b98677",
        "outputId": "f015d612-bfbf-42cd-bb80-fcb8e8bc6df7"
      },
      "source": [
        "# Construct DataFrame from order_aic_bic\n",
        "order_df = pd.DataFrame(order_aic_bic, \n",
        "                        columns=['p', 'q', 'AIC', 'BIC'])\n",
        " \n",
        "# Print order_df in order of increasing AIC\n",
        "print(order_df.sort_values('AIC'))\n",
        " \n",
        "# Print order_df in order of increasing BIC\n",
        "print(order_df.sort_values('BIC'))"
      ],
      "id": "f2b98677",
      "execution_count": null,
      "outputs": [
        {
          "output_type": "stream",
          "name": "stdout",
          "text": [
            "   p  q          AIC          BIC\n",
            "4  1  1  3829.313538  3844.802009\n",
            "5  1  2  3830.446437  3849.807026\n",
            "7  2  1  3830.468363  3849.828952\n",
            "8  2  2  3832.446133  3855.678840\n",
            "1  0  1  3833.436441  3845.052794\n",
            "3  1  0  3833.596389  3845.212743\n",
            "0  0  0  3833.608482  3841.352718\n",
            "2  0  2  3834.918271  3850.406742\n",
            "6  2  0  3835.122500  3850.610971\n",
            "   p  q          AIC          BIC\n",
            "0  0  0  3833.608482  3841.352718\n",
            "4  1  1  3829.313538  3844.802009\n",
            "1  0  1  3833.436441  3845.052794\n",
            "3  1  0  3833.596389  3845.212743\n",
            "5  1  2  3830.446437  3849.807026\n",
            "7  2  1  3830.468363  3849.828952\n",
            "2  0  2  3834.918271  3850.406742\n",
            "6  2  0  3835.122500  3850.610971\n",
            "8  2  2  3832.446133  3855.678840\n"
          ]
        }
      ]
    },
    {
      "cell_type": "code",
      "metadata": {
        "colab": {
          "base_uri": "https://localhost:8080/",
          "height": 1000
        },
        "id": "d81df11e",
        "outputId": "4c0ac0ba-436f-4c24-c3db-c00433a0d62a"
      },
      "source": [
        "# Create and fit model\n",
        "model = SARIMAX(df_isolasi, order=(1,1,1), trend = 'c')\n",
        "results = model.fit()\n",
        " \n",
        "# Create the 4 diagostics plots\n",
        "results.plot_diagnostics(figsize=(15, 12))\n",
        "plt.show()\n",
        " \n",
        "# Print summary\n",
        "print(results.summary())"
      ],
      "id": "d81df11e",
      "execution_count": null,
      "outputs": [
        {
          "output_type": "stream",
          "name": "stderr",
          "text": [
            "/usr/local/lib/python3.7/dist-packages/statsmodels/tsa/base/tsa_model.py:165: ValueWarning: No frequency information was provided, so inferred frequency D will be used.\n",
            "  % freq, ValueWarning)\n"
          ]
        },
        {
          "output_type": "display_data",
          "data": {
            "image/png": "[encoded data removed]",
            "text/plain": [
              "<Figure size 1080x864 with 4 Axes>"
            ]
          },
          "metadata": {
            "needs_background": "light"
          }
        },
        {
          "output_type": "stream",
          "name": "stdout",
          "text": [
            "                            Statespace Model Results                            \n",
            "================================================================================\n",
            "Dep. Variable:     Total Pasien Isolasi   No. Observations:                  356\n",
            "Model:                 SARIMAX(1, 1, 1)   Log Likelihood               -1910.657\n",
            "Date:                  Thu, 02 Dec 2021   AIC                           3829.314\n",
            "Time:                          06:44:27   BIC                           3844.802\n",
            "Sample:                      12-01-2020   HQIC                          3835.475\n",
            "                           - 11-21-2021                                         \n",
            "Covariance Type:                    opg                                         \n",
            "==============================================================================\n",
            "                 coef    std err          z      P>|z|      [0.025      0.975]\n",
            "------------------------------------------------------------------------------\n",
            "intercept      0.0525      0.171      0.307      0.759      -0.283       0.388\n",
            "ar.L1          0.9422      0.063     14.861      0.000       0.818       1.067\n",
            "ma.L1         -1.0000      9.051     -0.110      0.912     -18.741      16.741\n",
            "sigma2      2750.4865    2.5e+04      0.110      0.913   -4.63e+04    5.18e+04\n",
            "===================================================================================\n",
            "Ljung-Box (Q):                        4.16   Jarque-Bera (JB):           1614470.98\n",
            "Prob(Q):                              1.00   Prob(JB):                         0.00\n",
            "Heteroskedasticity (H):            1198.13   Skew:                            17.88\n",
            "Prob(H) (two-sided):                  0.00   Kurtosis:                       331.43\n",
            "===================================================================================\n",
            "\n",
            "Warnings:\n",
            "[1] Covariance matrix calculated using the outer product of gradients (complex-step).\n"
          ]
        }
      ]
    },
    {
      "cell_type": "code",
      "metadata": {
        "id": "JgNkvRfboAkW"
      },
      "source": [
        "import pickle\n",
        "# save the model to disk\n",
        "filename = 'sarimax_model.pkl'\n",
        "pickle.dump(results, open(filename, 'wb'))"
      ],
      "id": "JgNkvRfboAkW",
      "execution_count": null,
      "outputs": []
    },
    {
      "cell_type": "code",
      "metadata": {
        "colab": {
          "base_uri": "https://localhost:8080/"
        },
        "id": "2oG4QrQ4rNuW",
        "outputId": "5d4a9221-a772-49d1-cfe9-b512d610f25d"
      },
      "source": [
        "# test model forecasting\n",
        "\n",
        "from pandas.tseries.offsets import DateOffset\n",
        "data = pd.DataFrame(df_isolasi.copy())\n",
        "\n",
        "pred_date=[data.index[-1]+ DateOffset(days=x)for x in range(0,365)]\n",
        "pred_date=pd.DataFrame(index=pred_date[1:],columns=data.columns)\n",
        "print(pred_date)"
      ],
      "id": "2oG4QrQ4rNuW",
      "execution_count": null,
      "outputs": [
        {
          "output_type": "stream",
          "name": "stdout",
          "text": [
            "           Total Pasien Isolasi\n",
            "2021-11-22                  NaN\n",
            "2021-11-23                  NaN\n",
            "2021-11-24                  NaN\n",
            "2021-11-25                  NaN\n",
            "2021-11-26                  NaN\n",
            "...                         ...\n",
            "2022-11-16                  NaN\n",
            "2022-11-17                  NaN\n",
            "2022-11-18                  NaN\n",
            "2022-11-19                  NaN\n",
            "2022-11-20                  NaN\n",
            "\n",
            "[364 rows x 1 columns]\n"
          ]
        }
      ]
    },
    {
      "cell_type": "code",
      "metadata": {
        "id": "r53PFGAX3eK1"
      },
      "source": [
        "data_merge=pd.concat([data,pred_date])\n",
        "data_merge.to_csv('data_merge.csv')"
      ],
      "id": "r53PFGAX3eK1",
      "execution_count": null,
      "outputs": []
    },
    {
      "cell_type": "code",
      "metadata": {
        "colab": {
          "base_uri": "https://localhost:8080/",
          "height": 511
        },
        "id": "Az0DWbI0sF-k",
        "outputId": "6c9c6501-1eaa-4b89-9a62-ef4d6f794189"
      },
      "source": [
        "# load the model from disk\n",
        "loaded_model = pickle.load(open(filename, 'rb'))\n",
        "\n",
        "data_merge['forecast'] = loaded_model.predict(start = 356, end = 356+39, dynamic= True)\n",
        "data_merge[['Total Pasien Isolasi', 'forecast']].plot(figsize=(12, 8))"
      ],
      "id": "Az0DWbI0sF-k",
      "execution_count": null,
      "outputs": [
        {
          "output_type": "execute_result",
          "data": {
            "text/plain": [
              "<matplotlib.axes._subplots.AxesSubplot at 0x7f78170c0350>"
            ]
          },
          "metadata": {},
          "execution_count": 147
        },
        {
          "output_type": "display_data",
          "data": {
            "image/png": "[encoded data removed]",
            "text/plain": [
              "<Figure size 864x576 with 1 Axes>"
            ]
          },
          "metadata": {
            "needs_background": "light"
          }
        }
      ]
    },
    {
      "cell_type": "code",
      "metadata": {
        "colab": {
          "base_uri": "https://localhost:8080/",
          "height": 300
        },
        "id": "8fpAPz2-_Lmo",
        "outputId": "e4d8bc6a-eaf2-40f2-f443-25d612c83af5"
      },
      "source": [
        "fig, ax = plt.subplots()\n",
        "ax.plot(data_merge[['Total Pasien Isolasi', 'forecast']])"
      ],
      "id": "8fpAPz2-_Lmo",
      "execution_count": null,
      "outputs": [
        {
          "output_type": "execute_result",
          "data": {
            "text/plain": [
              "[<matplotlib.lines.Line2D at 0x7f78170cc7d0>,\n",
              " <matplotlib.lines.Line2D at 0x7f78170e9450>]"
            ]
          },
          "metadata": {},
          "execution_count": 146
        },
        {
          "output_type": "display_data",
          "data": {
            "image/png": "[encoded data removed]",
            "text/plain": [
              "<Figure size 432x288 with 1 Axes>"
            ]
          },
          "metadata": {
            "needs_background": "light"
          }
        }
      ]
    }
  ]
}